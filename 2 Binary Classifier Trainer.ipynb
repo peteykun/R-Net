{
 "cells": [
  {
   "cell_type": "code",
   "execution_count": null,
   "metadata": {
    "scrolled": true
   },
   "outputs": [],
   "source": [
    "from binary_model import BinaryModel\n",
    "from util import convert_tokens, evaluate, get_batch_dataset, get_dataset\n",
    "import tensorflow as tf\n",
    "from config import flags\n",
    "import numpy as np\n",
    "import json"
   ]
  },
  {
   "cell_type": "code",
   "execution_count": null,
   "metadata": {},
   "outputs": [],
   "source": [
    "def get_binary_record_parser(config, is_test=True):\n",
    "    def parse(example):\n",
    "        para_limit = config.test_para_limit if is_test else config.para_limit\n",
    "        ques_limit = config.test_ques_limit if is_test else config.ques_limit\n",
    "        char_limit = config.char_limit\n",
    "        features = tf.parse_single_example(example,\n",
    "                                           features={\n",
    "                                               \"context_idxs\": tf.FixedLenFeature([], tf.string),\n",
    "                                               \"ques_idxs\": tf.FixedLenFeature([], tf.string),\n",
    "                                               \"context_char_idxs\": tf.FixedLenFeature([], tf.string),\n",
    "                                               \"ques_char_idxs\": tf.FixedLenFeature([], tf.string),\n",
    "                                               \"id\": tf.FixedLenFeature([], tf.int64),\n",
    "                                               \"tag\": tf.FixedLenFeature([], tf.string)\n",
    "                                           })\n",
    "        context_idxs = tf.reshape(tf.decode_raw(\n",
    "            features[\"context_idxs\"], tf.int32), [para_limit])\n",
    "        ques_idxs = tf.reshape(tf.decode_raw(\n",
    "            features[\"ques_idxs\"], tf.int32), [ques_limit])\n",
    "        context_char_idxs = tf.reshape(tf.decode_raw(\n",
    "            features[\"context_char_idxs\"], tf.int32), [para_limit, char_limit])\n",
    "        ques_char_idxs = tf.reshape(tf.decode_raw(\n",
    "            features[\"ques_char_idxs\"], tf.int32), [ques_limit, char_limit])\n",
    "        qa_id = features[\"id\"]\n",
    "        tag = tf.reshape(tf.decode_raw(\n",
    "            features[\"tag\"], tf.int32), [2])\n",
    "        return context_idxs, ques_idxs, context_char_idxs, ques_char_idxs, qa_id, tag\n",
    "    \n",
    "    return parse"
   ]
  },
  {
   "cell_type": "code",
   "execution_count": null,
   "metadata": {},
   "outputs": [],
   "source": [
    "flags.DEFINE_string('f', 'give up already', 'who cares lol')\n",
    "config = flags.FLAGS"
   ]
  },
  {
   "cell_type": "code",
   "execution_count": null,
   "metadata": {},
   "outputs": [],
   "source": [
    "parser = get_binary_record_parser(config)\n",
    "train_dataset = get_batch_dataset('data/binary_train.tf', parser, config)\n",
    "dev_dataset = get_dataset('data/binary_test.tf', parser, config)\n",
    "handle = tf.placeholder(tf.string, shape=[])\n",
    "iterator = tf.data.Iterator.from_string_handle(\n",
    "    handle, train_dataset.output_types, train_dataset.output_shapes)\n",
    "train_iterator = train_dataset.make_one_shot_iterator()\n",
    "dev_iterator = dev_dataset.make_one_shot_iterator()"
   ]
  },
  {
   "cell_type": "code",
   "execution_count": null,
   "metadata": {},
   "outputs": [],
   "source": [
    "with open(config.word_emb_file, \"r\") as fh:\n",
    "    word_mat = np.array(json.load(fh), dtype=np.float32)\n",
    "with open(config.char_emb_file, \"r\") as fh:\n",
    "    char_mat = np.array(json.load(fh), dtype=np.float32)"
   ]
  },
  {
   "cell_type": "code",
   "execution_count": null,
   "metadata": {},
   "outputs": [],
   "source": [
    "model = BinaryModel(config, iterator, word_mat, char_mat)"
   ]
  },
  {
   "cell_type": "code",
   "execution_count": null,
   "metadata": {},
   "outputs": [],
   "source": [
    "sess_config = tf.ConfigProto(allow_soft_placement=True)\n",
    "sess_config.gpu_options.allow_growth = True\n",
    "\n",
    "sess = tf.Session(config=sess_config)"
   ]
  },
  {
   "cell_type": "code",
   "execution_count": null,
   "metadata": {
    "scrolled": true
   },
   "outputs": [],
   "source": [
    "sess.run(tf.global_variables_initializer())\n",
    "saver = tf.train.Saver(var_list=[v for v in tf.global_variables() if not v.name.startswith('binary/') and '/Adam' not in v.name and 'beta' not in v.name])\n",
    "print('Restoring', tf.train.latest_checkpoint(config.save_dir))\n",
    "saver.restore(sess, tf.train.latest_checkpoint(config.save_dir))"
   ]
  },
  {
   "cell_type": "code",
   "execution_count": null,
   "metadata": {},
   "outputs": [],
   "source": [
    "saver2 = tf.train.Saver()\n",
    "best_acc = 0"
   ]
  },
  {
   "cell_type": "code",
   "execution_count": null,
   "metadata": {},
   "outputs": [],
   "source": [
    "train_handle = sess.run(train_iterator.string_handle())\n",
    "dev_handle = sess.run(dev_iterator.string_handle())"
   ]
  },
  {
   "cell_type": "code",
   "execution_count": null,
   "metadata": {
    "scrolled": true
   },
   "outputs": [],
   "source": [
    "for _ in range(1, 5000):\n",
    "    loss, train_op = sess.run([model.loss, model.train_op], feed_dict={\n",
    "                              handle: train_handle})\n",
    "    \n",
    "    if _ % 10 == 0:\n",
    "        print('After', _, 'iterations:')\n",
    "        print('Batch Loss:', np.mean(loss))\n",
    "    \n",
    "    if _ % 100 == 0:\n",
    "        acc = 0\n",
    "\n",
    "        for __ in range(22):\n",
    "            pred, target = sess.run([model.prediction, model.y_target], feed_dict={\n",
    "                                      handle: dev_handle})\n",
    "\n",
    "            acc += np.mean(pred.argmax(1) == target.argmax(1))\n",
    "\n",
    "        acc /= float(22)\n",
    "        print('Dev Accuracy:', acc)\n",
    "        \n",
    "        if acc > best_acc:\n",
    "            best_acc = acc\n",
    "            saver2.save(sess, 'log/binary_model/badptr-savepoint', global_step=_)\n",
    "    \n",
    "    if _ % 10 == 0:\n",
    "        print()"
   ]
  },
  {
   "cell_type": "code",
   "execution_count": null,
   "metadata": {},
   "outputs": [],
   "source": [
    "acc = 0\n",
    "\n",
    "for __ in range(22):\n",
    "    pred, target = sess.run([model.prediction, model.y_target], feed_dict={\n",
    "                              handle: dev_handle})\n",
    "\n",
    "    acc += np.mean(pred.argmax(1) == target.argmax(1))\n",
    "\n",
    "acc /= float(22)\n",
    "print('Dev Accuracy:', acc)\n",
    "\n",
    "if acc > best_acc:\n",
    "    best_acc = acc\n",
    "    saver2.save(sess, 'log/binary_model/badptr-savepoint', global_step=_)"
   ]
  }
 ],
 "metadata": {
  "kernelspec": {
   "display_name": "Python 3",
   "language": "python",
   "name": "python3"
  },
  "language_info": {
   "codemirror_mode": {
    "name": "ipython",
    "version": 3
   },
   "file_extension": ".py",
   "mimetype": "text/x-python",
   "name": "python",
   "nbconvert_exporter": "python",
   "pygments_lexer": "ipython3",
   "version": "3.5.2"
  }
 },
 "nbformat": 4,
 "nbformat_minor": 2
}
